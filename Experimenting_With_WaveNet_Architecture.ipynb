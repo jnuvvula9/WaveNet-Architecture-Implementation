{
  "nbformat": 4,
  "nbformat_minor": 0,
  "metadata": {
    "colab": {
      "provenance": []
    },
    "kernelspec": {
      "name": "python3",
      "display_name": "Python 3"
    },
    "language_info": {
      "name": "python"
    }
  },
  "cells": [
    {
      "cell_type": "code",
      "execution_count": 85,
      "metadata": {
        "id": "PKGJUV3nVW35"
      },
      "outputs": [],
      "source": [
        "import torch\n",
        "import torch.nn.functional as F\n",
        "import matplotlib.pyplot as plt\n",
        "%matplotlib inline"
      ]
    },
    {
      "cell_type": "code",
      "source": [
        "words = open('names.txt', 'r').read().splitlines()\n",
        "print(len(words))\n",
        "print(max(len(w) for w in words))\n",
        "print(words[:8])"
      ],
      "metadata": {
        "colab": {
          "base_uri": "https://localhost:8080/"
        },
        "id": "YySt7m-uVZP7",
        "outputId": "737016d1-cc2e-458e-ffac-07855aabc026"
      },
      "execution_count": 86,
      "outputs": [
        {
          "output_type": "stream",
          "name": "stdout",
          "text": [
            "32033\n",
            "15\n",
            "['emma', 'olivia', 'ava', 'isabella', 'sophia', 'charlotte', 'mia', 'amelia']\n"
          ]
        }
      ]
    },
    {
      "cell_type": "code",
      "source": [
        "chars = sorted(list(set(''.join(words))))\n",
        "stoi = {s:i+1 for i, s in enumerate(chars)}\n",
        "stoi['.'] = 0\n",
        "itos = {i:s for s, i in stoi.items()}\n",
        "vocab_size = len(itos)\n",
        "print(itos)\n",
        "print(vocab_size)"
      ],
      "metadata": {
        "colab": {
          "base_uri": "https://localhost:8080/"
        },
        "id": "1u3gUNxWVxPI",
        "outputId": "3e04bf27-b1ba-430d-abf4-a77c0bbc9c25"
      },
      "execution_count": 87,
      "outputs": [
        {
          "output_type": "stream",
          "name": "stdout",
          "text": [
            "{1: 'a', 2: 'b', 3: 'c', 4: 'd', 5: 'e', 6: 'f', 7: 'g', 8: 'h', 9: 'i', 10: 'j', 11: 'k', 12: 'l', 13: 'm', 14: 'n', 15: 'o', 16: 'p', 17: 'q', 18: 'r', 19: 's', 20: 't', 21: 'u', 22: 'v', 23: 'w', 24: 'x', 25: 'y', 26: 'z', 0: '.'}\n",
            "27\n"
          ]
        }
      ]
    },
    {
      "cell_type": "code",
      "source": [
        "import random\n",
        "random.seed(42)\n",
        "random.shuffle(words)"
      ],
      "metadata": {
        "id": "9-K-J4gjV0x4"
      },
      "execution_count": 88,
      "outputs": []
    },
    {
      "cell_type": "code",
      "source": [
        "#build the dataset\n",
        "block_size = 8 # context length\n",
        "\n",
        "def build_dataset(words):\n",
        "    X, y = [], []\n",
        "\n",
        "    for w in words:\n",
        "        context = [0] * block_size\n",
        "        for ch in w + '.':\n",
        "            idx = stoi[ch]\n",
        "            X.append(context)\n",
        "            y.append(idx)\n",
        "            context = context[1:] + [idx]\n",
        "\n",
        "    X = torch.tensor(X)\n",
        "    y = torch.tensor(y)\n",
        "    print(X.shape, y.shape)\n",
        "    return X, y\n",
        "\n",
        "n1 = int(0.8*len(words))\n",
        "n2 = int(0.9*len(words))\n",
        "X_train, y_train = build_dataset(words[:n1])\n",
        "X_dev, y_dev = build_dataset(words[n1:n2])\n",
        "X_test, y_test = build_dataset(words[n2:])"
      ],
      "metadata": {
        "colab": {
          "base_uri": "https://localhost:8080/"
        },
        "id": "7_Q4JjWgV8vc",
        "outputId": "3f4185e2-c9d2-4a7f-8b36-7ec11d603ef6"
      },
      "execution_count": 89,
      "outputs": [
        {
          "output_type": "stream",
          "name": "stdout",
          "text": [
            "torch.Size([182625, 8]) torch.Size([182625])\n",
            "torch.Size([22655, 8]) torch.Size([22655])\n",
            "torch.Size([22866, 8]) torch.Size([22866])\n"
          ]
        }
      ]
    },
    {
      "cell_type": "code",
      "source": [
        "class Linear:\n",
        "  def __init__(self, fan_in, fan_out, bias=True):\n",
        "    self.weight = torch.randn((fan_in, fan_out)) / fan_in**0.5\n",
        "    self.bias = torch.zeros(fan_out) if bias else None\n",
        "\n",
        "  def __call__(self, x):\n",
        "    self.out = x @ self.weight\n",
        "    if self.bias is not None:\n",
        "      self.out += self.bias\n",
        "    return self.out\n",
        "\n",
        "  def parameters(self):\n",
        "    return [self.weight] + ([] if self.bias is None else [self.bias])\n",
        "\n",
        "class BatchNorm1d:\n",
        "\n",
        "  def __init__(self, dim, eps=1e-5, momentum=0.1):\n",
        "    self.eps = eps\n",
        "    self.momentum = momentum\n",
        "    self.training = True\n",
        "    #parameters (trained with backprop)\n",
        "    self.gamma = torch.ones(dim)\n",
        "    self.beta = torch.zeros(dim)\n",
        "    #buffers (trained with a running 'momentum update')\n",
        "    self.running_mean = torch.zeros(dim)\n",
        "    self.running_var = torch.ones(dim)\n",
        "\n",
        "  def __call__(self, x):\n",
        "    #calculate the forward pass\n",
        "    if self.training:\n",
        "      if x.ndim == 2:\n",
        "        dim = 0\n",
        "      elif x.ndim == 3:\n",
        "        dim = (0, 1)\n",
        "      xmean = x.mean(dim=dim, keepdim=True)\n",
        "      xvar = x.var(dim=dim, keepdim=True)\n",
        "    else:\n",
        "      xmean = self.running_mean\n",
        "      xvar = self.running_var\n",
        "\n",
        "    xhat = (x - xmean) / torch.sqrt(xvar + self.eps)\n",
        "    self.out = self.gamma * xhat + self.beta\n",
        "\n",
        "    #update buffers\n",
        "    if self.training:\n",
        "      with torch.no_grad():\n",
        "        self.running_mean = (1-self.momentum) * self.running_mean + self.momentum * xmean\n",
        "        self.running_var = (1-self.momentum) * self.running_var + self.momentum * xvar\n",
        "\n",
        "    return self.out\n",
        "\n",
        "  def parameters(self):\n",
        "    return [self.gamma, self.beta]\n",
        "\n",
        "class Tanh:\n",
        "\n",
        "  def __call__(self, x):\n",
        "    self.out = torch.tanh(x)\n",
        "    return self.out\n",
        "\n",
        "  def parameters(self):\n",
        "    return []\n",
        "\n",
        "\n",
        "class Embedding:\n",
        "\n",
        "  def __init__(self, num_embeddings, embedding_dim):\n",
        "    self.weight = torch.randn((num_embeddings, embedding_dim))\n",
        "\n",
        "  def __call__(self, IDX):\n",
        "    self.out = self.weight[IDX]\n",
        "    #print(self.out.shape)\n",
        "    return self.out\n",
        "\n",
        "  def parameters(self):\n",
        "    return [self.weight]\n",
        "\n",
        "class FlattenConsecutive:\n",
        "\n",
        "  def __init__(self, n):\n",
        "    self.n = n\n",
        "\n",
        "  def __call__(self, x):\n",
        "    B, T, C = x.shape\n",
        "    x = x.view(B, -1, self.n*C)\n",
        "    if x.shape[1] == 1:\n",
        "      x = x.squeeze(dim=1)\n",
        "    self.out = x\n",
        "    #print(self.out.shape)\n",
        "    return self.out\n",
        "\n",
        "  def parameters(self):\n",
        "    return []\n",
        "\n",
        "class Sequential:\n",
        "\n",
        "  def __init__(self, layers):\n",
        "    self.layers = layers\n",
        "\n",
        "  def __call__(self, x):\n",
        "    for layer in self.layers:\n",
        "      x = layer(x)\n",
        "    self.out = x\n",
        "    return self.out\n",
        "\n",
        "  def parameters(self):\n",
        "    return [p for layer in self.layers for p in layer.parameters()]"
      ],
      "metadata": {
        "id": "DRylwVigWF--"
      },
      "execution_count": 97,
      "outputs": []
    },
    {
      "cell_type": "code",
      "source": [
        "torch.manual_seed(42);"
      ],
      "metadata": {
        "id": "CfCyn-elZfQE"
      },
      "execution_count": 98,
      "outputs": []
    },
    {
      "cell_type": "code",
      "source": [
        "n_embd = 24 # the dimensionality of character embedding vector\n",
        "n_hidden = 128 # the number of neurons in the hidden layer of mlp\n",
        "\n",
        "model = Sequential([\n",
        "    Embedding(vocab_size, n_embd),\n",
        "    FlattenConsecutive(2), Linear(n_embd * 2, n_hidden, bias=False), BatchNorm1d(n_hidden), Tanh(),\n",
        "    FlattenConsecutive(2), Linear(n_hidden * 2, n_hidden, bias=False), BatchNorm1d(n_hidden), Tanh(),\n",
        "    FlattenConsecutive(2), Linear(n_hidden * 2, n_hidden, bias=False), BatchNorm1d(n_hidden), Tanh(),\n",
        "    Linear(           n_hidden, vocab_size),\n",
        "])\n",
        "\n",
        "with torch.no_grad():\n",
        "  model.layers[-1].weight *= 0.1 #last layer: make it less confident\n",
        "\n",
        "\n",
        "parameters = model.parameters()\n",
        "print(sum(p.nelement() for p in parameters))\n",
        "for p in parameters:\n",
        "  p.requires_grad = True"
      ],
      "metadata": {
        "colab": {
          "base_uri": "https://localhost:8080/"
        },
        "id": "Vp-1OGUvZeam",
        "outputId": "aa8c1906-0c8d-4b85-d0b1-4c078cb2ebf6"
      },
      "execution_count": 99,
      "outputs": [
        {
          "output_type": "stream",
          "name": "stdout",
          "text": [
            "76579\n"
          ]
        }
      ]
    },
    {
      "cell_type": "code",
      "source": [
        "max_steps = 200000\n",
        "batch_size = 32\n",
        "lossi = []\n",
        "\n",
        "for iter in range(max_steps):\n",
        "\n",
        "    #minibatch construct\n",
        "    idx = torch.randint(0, X_train.shape[0], (batch_size, ))\n",
        "    Xb, yb = X_train[idx], y_train[idx]\n",
        "\n",
        "    #forward pass\n",
        "    logits = model(Xb)\n",
        "    loss = F.cross_entropy(logits, yb)\n",
        "\n",
        "\n",
        "    #backward pass\n",
        "    for p in parameters:\n",
        "        p.grad = None\n",
        "    loss.backward()\n",
        "\n",
        "    #update\n",
        "    lr = 0.1 if iter < 100000 else 0.01 # lr decay\n",
        "    for p in parameters:\n",
        "        p.data += -lr * p.grad\n",
        "\n",
        "\n",
        "    if iter%10000 == 0:\n",
        "      print(f'{iter:7d}/{max_steps:7d}: {loss.item(): .4f}')\n",
        "    lossi.append(loss.log10().item())"
      ],
      "metadata": {
        "colab": {
          "base_uri": "https://localhost:8080/"
        },
        "id": "xG3-8kxfaLcI",
        "outputId": "65a20efe-145a-4558-f613-66be7925e685"
      },
      "execution_count": 100,
      "outputs": [
        {
          "output_type": "stream",
          "name": "stdout",
          "text": [
            "      0/ 200000:  3.3167\n",
            "  10000/ 200000:  2.0576\n",
            "  20000/ 200000:  2.0723\n",
            "  30000/ 200000:  2.5134\n",
            "  40000/ 200000:  2.1476\n",
            "  50000/ 200000:  1.7836\n",
            "  60000/ 200000:  2.2592\n",
            "  70000/ 200000:  1.9331\n",
            "  80000/ 200000:  1.6875\n",
            "  90000/ 200000:  2.0395\n",
            " 100000/ 200000:  1.7736\n",
            " 110000/ 200000:  1.8279\n",
            " 120000/ 200000:  1.6460\n",
            " 130000/ 200000:  1.7728\n",
            " 140000/ 200000:  1.6337\n",
            " 150000/ 200000:  1.6474\n",
            " 160000/ 200000:  1.8703\n",
            " 170000/ 200000:  1.6385\n",
            " 180000/ 200000:  1.6806\n",
            " 190000/ 200000:  1.9160\n"
          ]
        }
      ]
    },
    {
      "cell_type": "code",
      "source": [
        "plt.plot(torch.tensor(lossi).view(-1, 1000).mean(dim=1).detach())"
      ],
      "metadata": {
        "colab": {
          "base_uri": "https://localhost:8080/",
          "height": 447
        },
        "id": "MimTYa-_axVM",
        "outputId": "7e927c91-6c15-43c2-b425-59fb942516a3"
      },
      "execution_count": 101,
      "outputs": [
        {
          "output_type": "execute_result",
          "data": {
            "text/plain": [
              "[<matplotlib.lines.Line2D at 0x792178379ed0>]"
            ]
          },
          "metadata": {},
          "execution_count": 101
        },
        {
          "output_type": "display_data",
          "data": {
            "text/plain": [
              "<Figure size 640x480 with 1 Axes>"
            ],
            "image/png": "[encoded data removed]"
          },
          "metadata": {}
        }
      ]
    },
    {
      "cell_type": "code",
      "source": [
        "for layer in model.layers:\n",
        "  layer.training = False"
      ],
      "metadata": {
        "id": "VgdkhTTXa_IB"
      },
      "execution_count": 102,
      "outputs": []
    },
    {
      "cell_type": "code",
      "source": [
        "@torch.no_grad() # a decorator that disable gradient tracking\n",
        "\n",
        "def split_loss(s, X, y):\n",
        "  logits = model(X)\n",
        "  loss = F.cross_entropy(logits, y)\n",
        "  print(s, loss.item())\n",
        "\n",
        "split_loss('train', X_train, y_train)\n",
        "split_loss('dev', X_dev, y_dev)"
      ],
      "metadata": {
        "colab": {
          "base_uri": "https://localhost:8080/"
        },
        "id": "8w1yVHqTbu5n",
        "outputId": "9428e35a-31b6-4d55-9b50-7a8686d22a27"
      },
      "execution_count": 103,
      "outputs": [
        {
          "output_type": "stream",
          "name": "stdout",
          "text": [
            "train 1.7874855995178223\n",
            "dev 1.9916560649871826\n"
          ]
        }
      ]
    },
    {
      "cell_type": "code",
      "source": [
        "for i in range(20):\n",
        "    out = []\n",
        "    context = [0]*block_size #initialize with all ...\n",
        "    while True:\n",
        "        logits = model(torch.tensor([context])) #(1, block_size, n_embd)\n",
        "        probs = F.softmax(logits, dim=1)\n",
        "        idx = torch.multinomial(probs, num_samples=1).item()\n",
        "        context = context[1:] + [idx]\n",
        "        if idx == 0:\n",
        "            break\n",
        "        out.append(itos[idx])\n",
        "    print(''.join(ch for ch in out))"
      ],
      "metadata": {
        "colab": {
          "base_uri": "https://localhost:8080/"
        },
        "id": "zz8RmFSQc_S8",
        "outputId": "3a2f0618-32c3-46d9-deb0-e1934aaa4413"
      },
      "execution_count": 48,
      "outputs": [
        {
          "output_type": "stream",
          "name": "stdout",
          "text": [
            "yeverie\n",
            "kya\n",
            "kylek\n",
            "tiskin\n",
            "porbyn\n",
            "abib\n",
            "meriana\n",
            "zailynn\n",
            "rayni\n",
            "dakeya\n",
            "yare\n",
            "koren\n",
            "kamilah\n",
            "ywen\n",
            "mirabella\n",
            "oluwase\n",
            "josusan\n",
            "ramiel\n",
            "ellio\n",
            "delina\n"
          ]
        }
      ]
    },
    {
      "cell_type": "code",
      "source": [
        "range(10)"
      ],
      "metadata": {
        "colab": {
          "base_uri": "https://localhost:8080/"
        },
        "id": "DQsdnqugdxwV",
        "outputId": "d2fe2e9c-f192-4bd0-cc82-9ea5ca17137c"
      },
      "execution_count": 8,
      "outputs": [
        {
          "output_type": "execute_result",
          "data": {
            "text/plain": [
              "range(0, 10)"
            ]
          },
          "metadata": {},
          "execution_count": 8
        }
      ]
    },
    {
      "cell_type": "code",
      "source": [
        "e = torch.randn(4, 8, 10)\n",
        "e.shape"
      ],
      "metadata": {
        "colab": {
          "base_uri": "https://localhost:8080/"
        },
        "id": "IKB-e_F_W12N",
        "outputId": "4b3ff4eb-75ae-4381-957f-24a0bb2e65f8"
      },
      "execution_count": 11,
      "outputs": [
        {
          "output_type": "execute_result",
          "data": {
            "text/plain": [
              "torch.Size([4, 8, 10])"
            ]
          },
          "metadata": {},
          "execution_count": 11
        }
      ]
    },
    {
      "cell_type": "code",
      "source": [
        "explicit = torch.cat((e[:, ::2, :], e[:, 1::2, :]), dim=2)"
      ],
      "metadata": {
        "id": "iTQEoV0LYX4s"
      },
      "execution_count": 22,
      "outputs": []
    },
    {
      "cell_type": "code",
      "source": [
        "torch.all(e.view(4,4,20) == explicit)"
      ],
      "metadata": {
        "colab": {
          "base_uri": "https://localhost:8080/"
        },
        "id": "3cy0ppH6Yu1N",
        "outputId": "3aa2daab-e383-457d-874c-59c356939563"
      },
      "execution_count": 24,
      "outputs": [
        {
          "output_type": "execute_result",
          "data": {
            "text/plain": [
              "tensor(True)"
            ]
          },
          "metadata": {},
          "execution_count": 24
        }
      ]
    },
    {
      "cell_type": "code",
      "source": [],
      "metadata": {
        "id": "hDZoduBSZEHA"
      },
      "execution_count": null,
      "outputs": []
    }
  ]
}